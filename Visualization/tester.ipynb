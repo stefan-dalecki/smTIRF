{
 "cells": [
  {
   "cell_type": "code",
   "execution_count": 1,
   "metadata": {},
   "outputs": [
    {
     "name": "stdout",
     "output_type": "stream",
     "text": [
      "   Trajectory  Frame      x       y     m0  Brightness  NPscore  \\\n",
      "0           1      0  1.123   4.658  1.506       2.210   20.789   \n",
      "1           1      1  1.143   4.148  1.533       2.255   45.120   \n",
      "2           1      2  2.496   5.466  1.653       3.577  213.111   \n",
      "3           1      3  2.472  10.806  2.862       4.820    5.771   \n",
      "4           1      4  1.621   9.901  2.873       2.800  148.944   \n",
      "\n",
      "   Average_Brightness  Length (frames)        SDs      MSD  \n",
      "0            3.421595               42        NaN  2.09774  \n",
      "1            3.421595               42   0.260500  2.09774  \n",
      "2            3.421595               42   3.567733  2.09774  \n",
      "3            3.421595               42  28.516176  2.09774  \n",
      "4            3.421595               42   1.543226  2.09774  \n"
     ]
    }
   ],
   "source": [
    "import os\n",
    "import operator\n",
    "import pandas as pd\n",
    "import numpy as np\n",
    "\n",
    "file_name = r\"C:\\Users\\sjdal\\Github\\smTIRF\\Public_ML_Prototype\\four_grp1_raw.xlsx\"\n",
    "df = pd.read_excel(file_name)\n",
    "print(df.head())"
   ]
  },
  {
   "cell_type": "code",
   "execution_count": 22,
   "metadata": {},
   "outputs": [],
   "source": [
    "def identify(data_df,\n",
    "        *,\n",
    "        criteria: dict = {\"dim\": (\"Average_Brightness\", \"<\", 3.1), \"bright\": (\"Average_Brightness\", \">\" ,3.8), \"short\": (\"Length (frames)\", \"<\", 10), \"slow\": (\"MSD\", \"<\", 0.3), \"fast\": (\"MSD\", \">\", 3.5)}\n",
    "    ):\n",
    "    ops = { \"<\": operator.lt, \"=<\": operator.le, \">\": operator.gt, \"=>\": operator.ge, \"=\": operator.eq}\n",
    "    for key, val in criteria.items():\n",
    "        col, op, num = val[0], val[1], val[2]\n",
    "        data_df.loc[ops[op](df[col],num), key] = key\n",
    "    return data_df, len(criteria)   "
   ]
  },
  {
   "cell_type": "code",
   "execution_count": 43,
   "metadata": {},
   "outputs": [
    {
     "name": "stdout",
     "output_type": "stream",
     "text": [
      "   Trajectory  Frame      x       y     m0  Brightness  NPscore  \\\n",
      "0           1      0  1.123   4.658  1.506       2.210   20.789   \n",
      "1           1      1  1.143   4.148  1.533       2.255   45.120   \n",
      "2           1      2  2.496   5.466  1.653       3.577  213.111   \n",
      "3           1      3  2.472  10.806  2.862       4.820    5.771   \n",
      "4           1      4  1.621   9.901  2.873       2.800  148.944   \n",
      "\n",
      "   Average_Brightness  Length (frames)        SDs      MSD dim bright short  \\\n",
      "0            3.421595               42             2.09774                    \n",
      "1            3.421595               42     0.2605  2.09774                    \n",
      "2            3.421595               42   3.567733  2.09774                    \n",
      "3            3.421595               42  28.516176  2.09774                    \n",
      "4            3.421595               42   1.543226  2.09774                    \n",
      "\n",
      "  slow fast                           ID  \n",
      "0            nan + nan + nan + nan + nan  \n",
      "1            nan + nan + nan + nan + nan  \n",
      "2            nan + nan + nan + nan + nan  \n",
      "3            nan + nan + nan + nan + nan  \n",
      "4            nan + nan + nan + nan + nan  \n"
     ]
    }
   ],
   "source": [
    "new, num_cols = identify(df)\n",
    "new = new.fillna(\"\")\n",
    "new[\"ID\"] = new.iloc[:, -5:].apply(lambda x: x.str.cat(sep=''), axis=1)\n",
    "print(new.head())"
   ]
  }
 ],
 "metadata": {
  "kernelspec": {
   "display_name": "Python 3.9.10 64-bit",
   "language": "python",
   "name": "python3"
  },
  "language_info": {
   "name": "python",
   "version": "3.9.10"
  },
  "orig_nbformat": 4,
  "vscode": {
   "interpreter": {
    "hash": "6e941f48438ce45ae16f7a3b5ea3b257853c6c837949daa30cdff0bbb7548b67"
   }
  }
 },
 "nbformat": 4,
 "nbformat_minor": 2
}
