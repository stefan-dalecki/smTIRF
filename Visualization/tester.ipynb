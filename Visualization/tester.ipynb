{
 "cells": [
  {
   "cell_type": "code",
   "execution_count": null,
   "metadata": {},
   "outputs": [],
   "source": [
    "import os\n",
    "import operator\n",
    "import pandas as pd\n",
    "import numpy as np\n",
    "\n",
    "file_name = r\"C:\\Users\\stda9924\\smTIRF\\Public_ML_Prototype\\four_grp1_raw.xlsx\"\n",
    "df = pd.read_excel(file_name)\n",
    "print(df.head())"
   ]
  },
  {
   "cell_type": "code",
   "execution_count": null,
   "metadata": {},
   "outputs": [],
   "source": [
    "def identify(data_df,\n",
    "        *,\n",
    "        criteria: dict = {\"dim\": (\"Average_Brightness\", \"<\", 3.1), \"bright\": (\"Average_Brightness\", \">\" ,3.8), \"short\": (\"Length (frames)\", \"<\", 10), \"slow\": (\"MSD\", \"<\", 0.3), \"fast\": (\"MSD\", \">\", 3.5)}\n",
    "    ):\n",
    "    ops = { \"<\": operator.lt, \"=<\": operator.le, \">\": operator.gt, \"=>\": operator.ge, \"=\": operator.eq}\n",
    "    for key, val in criteria.items():\n",
    "        col, op, num = val[0], val[1], val[2]\n",
    "        data_df.loc[ops[op](df[col],num), key] = key\n",
    "    return data_df, len(criteria)"
   ]
  },
  {
   "cell_type": "code",
   "execution_count": null,
   "metadata": {},
   "outputs": [],
   "source": [
    "new, num_cols = identify(df)"
   ]
  },
  {
   "cell_type": "code",
   "execution_count": null,
   "metadata": {},
   "outputs": [],
   "source": [
    "new[\"ID\"] = new.iloc[:, -5:].sum(axis=1)"
   ]
  },
  {
   "cell_type": "code",
   "execution_count": null,
   "metadata": {},
   "outputs": [],
   "source": [
    "fig = plt.figure(figsize=(8, 8))\n",
    "        ax = fig.add_subplot(projection=\"3d\")\n",
    "        ax.set_xlabel(self._x_label, labelpad=10)\n",
    "        ax.set_ylabel(self._y_label, labelpad=10)\n",
    "        ax.set_zlabel(self._z_label, labelpad=10)\n",
    "        ax.set_title(self._title)\n",
    "        sc = ax.scatter3D(\n",
    "            self._x,\n",
    "            self._y,\n",
    "            self._z,\n",
    "            c=self._df[\"Cluster\"],\n",
    "            cmap=\"Dark2\",\n",
    "        )\n",
    "        ax.view_init(30, 60)\n",
    "        plt.legend(*sc.legend_elements(), title=\"Group ID\")\n",
    "        plt.show(block=False)"
   ]
  }
 ],
 "metadata": {
  "kernelspec": {
   "display_name": "Python 3.9.1 64-bit",
   "language": "python",
   "name": "python3"
  },
  "language_info": {
   "codemirror_mode": {
    "name": "ipython",
    "version": 3
   },
   "file_extension": ".py",
   "mimetype": "text/x-python",
   "name": "python",
   "nbconvert_exporter": "python",
   "pygments_lexer": "ipython3",
   "version": "3.9.1"
  },
  "orig_nbformat": 4,
  "vscode": {
   "interpreter": {
    "hash": "8473eed7fbe74a09b0b7f650011368cb574084658d59ef0ee6b12157470f8864"
   }
  }
 },
 "nbformat": 4,
 "nbformat_minor": 2
}
