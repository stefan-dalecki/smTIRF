{
 "cells": [
  {
   "cell_type": "code",
   "execution_count": 1,
   "metadata": {},
   "outputs": [],
   "source": [
    "import os\n",
    "\n",
    "import pandas as pd\n",
    "import numpy as np\n",
    "\n",
    "file_dir = os.getcwd()\n",
    "file = r\"four_grp1_raw.xlsx\"\n",
    "\n",
    "data = os.path.join(file_dir, file)\n",
    "df = pd.read_excel(data)"
   ]
  },
  {
   "cell_type": "code",
   "execution_count": 2,
   "metadata": {},
   "outputs": [],
   "source": [
    "df = df[[\"Trajectory\", \"Average_Brightness\", \"Length (frames)\", \"MSD\"]]\n",
    "df.drop_duplicates(inplace=True)\n",
    "df = df.reset_index(drop=True).sort_values(by=\"Trajectory\")"
   ]
  },
  {
   "cell_type": "code",
   "execution_count": 3,
   "metadata": {},
   "outputs": [],
   "source": [
    "def keep_these(df, *, brightness: tuple = (3.1, 3.8), min_length: int = 10, diffusion: tuple = (0.3, 3.5)):\n",
    "    assert min_length < np.max(df[\"Length (frames)\"])\n",
    "    keepers= df.loc[((df[\"Average_Brightness\"].between(brightness[0], brightness[1])) & (df[\"Length (frames)\"] > min_length ) & (df[\"MSD\"].between(diffusion[0], diffusion[1])))].assign(Keep=1)\n",
    "    return pd.merge(df, keepers, how=\"left\").fillna(0)"
   ]
  },
  {
   "cell_type": "code",
   "execution_count": 4,
   "metadata": {},
   "outputs": [],
   "source": [
    "def normalize(df: pd.DataFrame):\n",
    "    for col in df:\n",
    "        mean = np.mean(df[col])\n",
    "        std = np.std(df[col])\n",
    "        df[col] = (df[col]-mean)/std\n",
    "        print(f\"{col=}, {mean=}, {std=}\")\n",
    "    return df"
   ]
  },
  {
   "cell_type": "code",
   "execution_count": 5,
   "metadata": {},
   "outputs": [
    {
     "name": "stdout",
     "output_type": "stream",
     "text": [
      "      Trajectory  Average_Brightness  Length (frames)        MSD  Keep\n",
      "0              1            3.421595               42   2.097740   1.0\n",
      "1              1            1.837333               15   1.324307   0.0\n",
      "2              1            1.737775               80   0.195119   0.0\n",
      "3              1            2.295812               16   3.366725   0.0\n",
      "4              2            2.057333                3   1.422739   0.0\n",
      "...          ...                 ...              ...        ...   ...\n",
      "5677        1677            2.735250                4   0.383584   0.0\n",
      "5678        1678            3.638250                4   0.842303   0.0\n",
      "5679        1679            3.549000                4  18.315919   0.0\n",
      "5680        1680            2.912500                2   4.221635   0.0\n",
      "5681        1681            3.197000                2   0.161591   0.0\n",
      "\n",
      "[5682 rows x 5 columns]\n",
      "   Average_Brightness  Length (frames)       MSD\n",
      "0            3.421595               42  2.097740\n",
      "1            1.837333               15  1.324307\n",
      "2            1.737775               80  0.195119\n",
      "3            2.295812               16  3.366725\n",
      "4            2.057333                3  1.422739\n",
      "col='Average_Brightness', mean=3.262539406499331, std=0.6068537771669426\n",
      "col='Length (frames)', mean=28.294966561070044, std=51.83793694244665\n",
      "col='MSD', mean=6.48642633164615, std=12.98552276557708\n",
      "   Average_Brightness  Length (frames)       MSD\n",
      "0            0.262099         0.264382 -0.337968\n",
      "1           -2.348516        -0.256472 -0.397529\n",
      "2           -2.512573         0.997436 -0.484486\n",
      "3           -1.593015        -0.237181 -0.240245\n",
      "4           -1.985991        -0.487962 -0.389949\n"
     ]
    }
   ],
   "source": [
    "df = keep_these(df)\n",
    "parameters = df.iloc[:, 1:-1]\n",
    "norm_params = normalize(parameters)\n",
    "\n",
    "identities = df.iloc[:, -1]\n",
    "\n",
    "# array = df.to_numpy()\n",
    "# inputs = parameters.to_numpy()\n",
    "# outputs = identities.to_numpy()"
   ]
  },
  {
   "cell_type": "code",
   "execution_count": 6,
   "metadata": {},
   "outputs": [
    {
     "ename": "NameError",
     "evalue": "name 'array' is not defined",
     "output_type": "error",
     "traceback": [
      "\u001b[1;31m---------------------------------------------------------------------------\u001b[0m",
      "\u001b[1;31mNameError\u001b[0m                                 Traceback (most recent call last)",
      "\u001b[1;32mc:\\Users\\sjdal\\Github\\smTIRF\\Public_ML_Prototype\\ml_pipeline.ipynb Cell 6'\u001b[0m in \u001b[0;36m<cell line: 1>\u001b[1;34m()\u001b[0m\n\u001b[1;32m----> <a href='vscode-notebook-cell:/c%3A/Users/sjdal/Github/smTIRF/Public_ML_Prototype/ml_pipeline.ipynb#ch0000004?line=0'>1</a>\u001b[0m indeces_permutation \u001b[39m=\u001b[39m np\u001b[39m.\u001b[39mrandom\u001b[39m.\u001b[39mpermutation(\u001b[39mlen\u001b[39m(array))\n\u001b[0;32m      <a href='vscode-notebook-cell:/c%3A/Users/sjdal/Github/smTIRF/Public_ML_Prototype/ml_pipeline.ipynb#ch0000004?line=1'>2</a>\u001b[0m shuffled_inputs \u001b[39m=\u001b[39m inputs[indeces_permutation]\n\u001b[0;32m      <a href='vscode-notebook-cell:/c%3A/Users/sjdal/Github/smTIRF/Public_ML_Prototype/ml_pipeline.ipynb#ch0000004?line=2'>3</a>\u001b[0m shuffled_targets \u001b[39m=\u001b[39m outputs[indeces_permutation]\n",
      "\u001b[1;31mNameError\u001b[0m: name 'array' is not defined"
     ]
    }
   ],
   "source": [
    "indeces_permutation = np.random.permutation(len(array))\n",
    "shuffled_inputs = inputs[indeces_permutation]\n",
    "shuffled_targets = outputs[indeces_permutation]\n",
    "\n",
    "num_validation_samples = int(0.3 * len(inputs))\n",
    "val_inputs = shuffled_inputs[:num_validation_samples]\n",
    "val_targets = shuffled_targets[:num_validation_samples]\n",
    "training_inputs = shuffled_inputs[num_validation_samples:]\n",
    "training_targets = shuffled_targets[num_validation_samples:]"
   ]
  },
  {
   "cell_type": "code",
   "execution_count": null,
   "metadata": {},
   "outputs": [],
   "source": [
    "from tensorflow import keras\n",
    "from tensorflow.keras import layers\n",
    "\n",
    "model = keras.Sequential([layers.Dense(64, activation=\"relu\"),layers.Dense(64, activation=\"relu\"),layers.Dense(1, activation=\"sigmoid\")])"
   ]
  }
 ],
 "metadata": {
  "kernelspec": {
   "display_name": "Python 3.9.10 64-bit",
   "language": "python",
   "name": "python3"
  },
  "language_info": {
   "codemirror_mode": {
    "name": "ipython",
    "version": 3
   },
   "file_extension": ".py",
   "mimetype": "text/x-python",
   "name": "python",
   "nbconvert_exporter": "python",
   "pygments_lexer": "ipython3",
   "version": "3.9.10"
  },
  "orig_nbformat": 4,
  "vscode": {
   "interpreter": {
    "hash": "6e941f48438ce45ae16f7a3b5ea3b257853c6c837949daa30cdff0bbb7548b67"
   }
  }
 },
 "nbformat": 4,
 "nbformat_minor": 2
}
