{
 "cells": [
  {
   "cell_type": "code",
   "execution_count": 1,
   "metadata": {},
   "outputs": [],
   "source": [
    "import os\n",
    "\n",
    "import pandas as pd\n",
    "import numpy as np\n",
    "\n",
    "file_dir = os.getcwd()\n",
    "file = r\"four_grp1_raw.xlsx\"\n",
    "\n",
    "data = os.path.join(file_dir, file)\n",
    "df = pd.read_excel(data)"
   ]
  },
  {
   "cell_type": "code",
   "execution_count": 2,
   "metadata": {},
   "outputs": [],
   "source": [
    "df = df[[\"Trajectory\", \"Average_Brightness\", \"Length (frames)\", \"MSD\"]]\n",
    "df.drop_duplicates(inplace=True)\n",
    "df = df.reset_index(drop=True).sort_values(by=\"Trajectory\")"
   ]
  },
  {
   "cell_type": "code",
   "execution_count": 3,
   "metadata": {},
   "outputs": [],
   "source": [
    "def keep_these(df, *, brightness: tuple = (3.1, 3.8), min_length: int = 10, diffusion: tuple = (0.3, 3.5)):\n",
    "    assert min_length < np.max(df[\"Length (frames)\"])\n",
    "    keepers= df.loc[((df[\"Average_Brightness\"].between(brightness[0], brightness[1])) & (df[\"Length (frames)\"] > min_length ) & (df[\"MSD\"].between(diffusion[0], diffusion[1])))].assign(Keep=1)\n",
    "    return pd.merge(df, keepers, how=\"left\").fillna(0)"
   ]
  },
  {
   "cell_type": "code",
   "execution_count": 4,
   "metadata": {},
   "outputs": [],
   "source": [
    "def normalize(df: pd.DataFrame):\n",
    "    for col in df:\n",
    "        mean = np.mean(df[col])\n",
    "        std = np.std(df[col])\n",
    "        df[col] = (df[col]-mean)/std\n",
    "        print(f\"{col=}, {mean=}, {std=}\")\n",
    "    return df"
   ]
  },
  {
   "cell_type": "code",
   "execution_count": 5,
   "metadata": {},
   "outputs": [
    {
     "name": "stdout",
     "output_type": "stream",
     "text": [
      "col='Average_Brightness', mean=3.262539406499331, std=0.6068537771669426\n",
      "col='Length (frames)', mean=28.294966561070044, std=51.83793694244665\n",
      "col='MSD', mean=6.48642633164615, std=12.98552276557708\n"
     ]
    }
   ],
   "source": [
    "df = keep_these(df)\n",
    "parameters = df.iloc[:, 1:-1]\n",
    "norm_params = normalize(parameters)\n",
    "\n",
    "identities = df.iloc[:, -1]\n",
    "\n",
    "array = df.to_numpy()\n",
    "inputs = parameters.to_numpy()\n",
    "outputs = identities.to_numpy()"
   ]
  },
  {
   "cell_type": "code",
   "execution_count": 6,
   "metadata": {},
   "outputs": [
    {
     "ename": "NameError",
     "evalue": "name 'array' is not defined",
     "output_type": "error",
     "traceback": [
      "\u001b[1;31m---------------------------------------------------------------------------\u001b[0m",
      "\u001b[1;31mNameError\u001b[0m                                 Traceback (most recent call last)",
      "\u001b[1;32m<ipython-input-6-98b42f006eca>\u001b[0m in \u001b[0;36m<module>\u001b[1;34m\u001b[0m\n\u001b[1;32m----> 1\u001b[1;33m \u001b[0mindeces_permutation\u001b[0m \u001b[1;33m=\u001b[0m \u001b[0mnp\u001b[0m\u001b[1;33m.\u001b[0m\u001b[0mrandom\u001b[0m\u001b[1;33m.\u001b[0m\u001b[0mpermutation\u001b[0m\u001b[1;33m(\u001b[0m\u001b[0mlen\u001b[0m\u001b[1;33m(\u001b[0m\u001b[0marray\u001b[0m\u001b[1;33m)\u001b[0m\u001b[1;33m)\u001b[0m\u001b[1;33m\u001b[0m\u001b[1;33m\u001b[0m\u001b[0m\n\u001b[0m\u001b[0;32m      2\u001b[0m \u001b[0mshuffled_inputs\u001b[0m \u001b[1;33m=\u001b[0m \u001b[0minputs\u001b[0m\u001b[1;33m[\u001b[0m\u001b[0mindeces_permutation\u001b[0m\u001b[1;33m]\u001b[0m\u001b[1;33m\u001b[0m\u001b[1;33m\u001b[0m\u001b[0m\n\u001b[0;32m      3\u001b[0m \u001b[0mshuffled_targets\u001b[0m \u001b[1;33m=\u001b[0m \u001b[0moutputs\u001b[0m\u001b[1;33m[\u001b[0m\u001b[0mindeces_permutation\u001b[0m\u001b[1;33m]\u001b[0m\u001b[1;33m\u001b[0m\u001b[1;33m\u001b[0m\u001b[0m\n\u001b[0;32m      4\u001b[0m \u001b[1;33m\u001b[0m\u001b[0m\n\u001b[0;32m      5\u001b[0m \u001b[0mnum_validation_samples\u001b[0m \u001b[1;33m=\u001b[0m \u001b[0mint\u001b[0m\u001b[1;33m(\u001b[0m\u001b[1;36m0.3\u001b[0m \u001b[1;33m*\u001b[0m \u001b[0mlen\u001b[0m\u001b[1;33m(\u001b[0m\u001b[0minputs\u001b[0m\u001b[1;33m)\u001b[0m\u001b[1;33m)\u001b[0m\u001b[1;33m\u001b[0m\u001b[1;33m\u001b[0m\u001b[0m\n",
      "\u001b[1;31mNameError\u001b[0m: name 'array' is not defined"
     ]
    }
   ],
   "source": [
    "indeces_permutation = np.random.permutation(len(array))\n",
    "shuffled_inputs = inputs[indeces_permutation]\n",
    "shuffled_targets = outputs[indeces_permutation]\n",
    "\n",
    "num_validation_samples = int(0.3 * len(inputs))\n",
    "val_inputs = shuffled_inputs[:num_validation_samples]\n",
    "val_targets = shuffled_targets[:num_validation_samples]\n",
    "training_inputs = shuffled_inputs[num_validation_samples:]\n",
    "training_targets = shuffled_targets[num_validation_samples:]"
   ]
  },
  {
   "cell_type": "code",
   "execution_count": null,
   "metadata": {},
   "outputs": [],
   "source": [
    "from tensorflow import keras\n",
    "from tensorflow.keras import layers\n",
    "\n",
    "model = keras.Sequential([layers.Dense(64, activation=\"relu\"),layers.Dense(64, activation=\"relu\"),layers.Dense(1, activation=\"sigmoid\")])"
   ]
  }
 ],
 "metadata": {
  "kernelspec": {
   "display_name": "Python 3.9.1 64-bit",
   "language": "python",
   "name": "python3"
  },
  "language_info": {
   "codemirror_mode": {
    "name": "ipython",
    "version": 3
   },
   "file_extension": ".py",
   "mimetype": "text/x-python",
   "name": "python",
   "nbconvert_exporter": "python",
   "pygments_lexer": "ipython3",
   "version": "3.9.1"
  },
  "orig_nbformat": 4,
  "vscode": {
   "interpreter": {
    "hash": "8473eed7fbe74a09b0b7f650011368cb574084658d59ef0ee6b12157470f8864"
   }
  }
 },
 "nbformat": 4,
 "nbformat_minor": 2
}
