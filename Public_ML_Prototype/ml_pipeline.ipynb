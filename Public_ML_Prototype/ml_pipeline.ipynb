{
 "cells": [
  {
   "cell_type": "code",
   "execution_count": 23,
   "metadata": {},
   "outputs": [
    {
     "name": "stdout",
     "output_type": "stream",
     "text": [
      "C:\\Users\\sjdal\\Github\\smTIRF\\ML_Pipeline\\*.xlsx\n"
     ]
    }
   ],
   "source": [
    "import os\n",
    "from glob import glob\n",
    "import pandas as pd\n",
    "import numpy as np\n",
    "\n",
    "file_path = (\n",
    "    r\"C:\\Users\\sjdal\\Github\\smTIRF\\ML_Pipeline\\Traj_67pM-GRP1_ND08_01_preprocessed_data_01.xlsx\"\n",
    ")\n",
    "one = pd.read_excel(file_path)\n",
    "\n",
    "file_dir = r\"C:\\Users\\sjdal\\Github\\smTIRF\\ML_Pipeline\"\n",
    "files = os.path.join(file_dir, \"*.xlsx\")\n",
    "g = glob(files)\n",
    "df = pd.concat(map(pd.read_excel, g), ignore_index=True)"
   ]
  },
  {
   "cell_type": "code",
   "execution_count": 24,
   "metadata": {},
   "outputs": [],
   "source": [
    "df= df.drop_duplicates().reset_index(drop=True)"
   ]
  },
  {
   "cell_type": "code",
   "execution_count": 25,
   "metadata": {},
   "outputs": [
    {
     "name": "stdout",
     "output_type": "stream",
     "text": [
      "Index(['Average_Brightness', 'Length (frames)', 'MSD', 'Keep'], dtype='object')\n"
     ]
    }
   ],
   "source": [
    "keep = df[df[\"Average_Brightness\"].between(3.3, 3.5)]\n",
    "keep = keep[keep[\"Length (frames)\"] > 10]\n",
    "keep = keep[keep[\"MSD\"].between(0.25, 3.5)].assign(Keep=1)\n",
    "all = pd.merge(df, keep, how=\"left\").fillna(0)[[\"Average_Brightness\", \"Length (frames)\", \"MSD\", \"Keep\"]]"
   ]
  },
  {
   "cell_type": "code",
   "execution_count": 26,
   "metadata": {},
   "outputs": [],
   "source": [
    "parameters = all.iloc[:, :-1]\n",
    "identities = all.iloc[:, -1]\n",
    "\n",
    "all_arr = all.to_numpy()\n",
    "inputs = parameters.to_numpy()\n",
    "outputs = identities.to_numpy()"
   ]
  },
  {
   "cell_type": "code",
   "execution_count": 30,
   "metadata": {},
   "outputs": [
    {
     "name": "stdout",
     "output_type": "stream",
     "text": [
      "[[  2.81024242  66.           1.01934398]\n",
      " [  3.51636082  97.           1.67416377]\n",
      " [  3.17316667   6.           0.37862829]\n",
      " ...\n",
      " [  3.33779817 109.           1.9387675 ]\n",
      " [  3.29143653 323.           1.62340997]\n",
      " [  3.44724057 212.           1.57082131]]\n"
     ]
    }
   ],
   "source": [
    "indeces_permutation = np.random.permutation(len(all_arr))\n",
    "shuffled_inputs = inputs[indeces_permutation]\n",
    "shuffled_targets = outputs[indeces_permutation]\n",
    "\n",
    "num_validation_samples = int(0.3 * len(inputs))\n",
    "val_inputs = shuffled_inputs[:num_validation_samples]\n",
    "val_targets = shuffled_targets[:num_validation_samples]\n",
    "training_inputs = shuffled_inputs[num_validation_samples:]\n",
    "training_targets = shuffled_targets[num_validation_samples:]"
   ]
  }
 ],
 "metadata": {
  "kernelspec": {
   "display_name": "Python 3.9.10 64-bit",
   "language": "python",
   "name": "python3"
  },
  "language_info": {
   "codemirror_mode": {
    "name": "ipython",
    "version": 3
   },
   "file_extension": ".py",
   "mimetype": "text/x-python",
   "name": "python",
   "nbconvert_exporter": "python",
   "pygments_lexer": "ipython3",
   "version": "3.9.10"
  },
  "orig_nbformat": 4,
  "vscode": {
   "interpreter": {
    "hash": "6e941f48438ce45ae16f7a3b5ea3b257853c6c837949daa30cdff0bbb7548b67"
   }
  }
 },
 "nbformat": 4,
 "nbformat_minor": 2
}
